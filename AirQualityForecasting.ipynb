{
  "cells": [
    {
      "cell_type": "code",
      "execution_count": null,
      "id": "b9095469",
      "metadata": {
        "id": "b9095469"
      },
      "outputs": [],
      "source": [
        "# importing necessary libraries\n",
        "import pandas as pd\n",
        "import numpy as np\n",
        "import matplotlib.pyplot as plt\n",
        "import seaborn as sns\n",
        "from scipy import stats\n",
        "from numpy import sqrt,log\n",
        "from scipy.stats import boxcox\n",
        "import statsmodels.formula.api as smf \n",
        "from statsmodels.tsa.api import ExponentialSmoothing, SimpleExpSmoothing, Holt\n",
        "from sklearn.metrics import mean_squared_error\n",
        "import statsmodels.formula.api as smf \n",
        "import warnings\n",
        "%matplotlib inline"
      ]
    },
    {
      "cell_type": "code",
      "execution_count": null,
      "id": "4203191f",
      "metadata": {
        "scrolled": true,
        "id": "4203191f",
        "outputId": "b5643b92-1b5c-4c81-ce08-64e030c8a628"
      },
      "outputs": [
        {
          "data": {
            "text/html": [
              "<div>\n",
              "<style scoped>\n",
              "    .dataframe tbody tr th:only-of-type {\n",
              "        vertical-align: middle;\n",
              "    }\n",
              "\n",
              "    .dataframe tbody tr th {\n",
              "        vertical-align: top;\n",
              "    }\n",
              "\n",
              "    .dataframe thead th {\n",
              "        text-align: right;\n",
              "    }\n",
              "</style>\n",
              "<table border=\"1\" class=\"dataframe\">\n",
              "  <thead>\n",
              "    <tr style=\"text-align: right;\">\n",
              "      <th></th>\n",
              "      <th>Year</th>\n",
              "      <th>CO2</th>\n",
              "    </tr>\n",
              "  </thead>\n",
              "  <tbody>\n",
              "    <tr>\n",
              "      <th>0</th>\n",
              "      <td>1800.0</td>\n",
              "      <td>0.00568</td>\n",
              "    </tr>\n",
              "    <tr>\n",
              "      <th>1</th>\n",
              "      <td>1801.0</td>\n",
              "      <td>0.00561</td>\n",
              "    </tr>\n",
              "    <tr>\n",
              "      <th>2</th>\n",
              "      <td>1802.0</td>\n",
              "      <td>0.00555</td>\n",
              "    </tr>\n",
              "    <tr>\n",
              "      <th>3</th>\n",
              "      <td>1803.0</td>\n",
              "      <td>0.00548</td>\n",
              "    </tr>\n",
              "    <tr>\n",
              "      <th>4</th>\n",
              "      <td>1804.0</td>\n",
              "      <td>0.00542</td>\n",
              "    </tr>\n",
              "  </tbody>\n",
              "</table>\n",
              "</div>"
            ],
            "text/plain": [
              "     Year      CO2\n",
              "0  1800.0  0.00568\n",
              "1  1801.0  0.00561\n",
              "2  1802.0  0.00555\n",
              "3  1803.0  0.00548\n",
              "4  1804.0  0.00542"
            ]
          },
          "execution_count": 2,
          "metadata": {},
          "output_type": "execute_result"
        }
      ],
      "source": [
        "#loading dataset\n",
        "co2 = pd.read_excel(\"\\\\Users\\\\piyus\\\\Documents\\\\ExcelR project\\\\P90\\\\CO2 dataset.xlsx\")\n",
        "co2.head()"
      ]
    },
    {
      "cell_type": "code",
      "execution_count": null,
      "id": "af0e36ba",
      "metadata": {
        "id": "af0e36ba",
        "outputId": "5794cafb-3886-4ccb-d731-b1086196a2a2"
      },
      "outputs": [
        {
          "data": {
            "text/plain": [
              "(215, 2)"
            ]
          },
          "execution_count": 3,
          "metadata": {},
          "output_type": "execute_result"
        }
      ],
      "source": [
        "#size of dataset\n",
        "co2.shape"
      ]
    },
    {
      "cell_type": "code",
      "execution_count": null,
      "id": "2bcd2ada",
      "metadata": {
        "id": "2bcd2ada",
        "outputId": "e462537a-3521-468a-90c2-2db55875a715"
      },
      "outputs": [
        {
          "data": {
            "text/plain": [
              "count    215.000000\n",
              "mean       6.741970\n",
              "std        6.522437\n",
              "min        0.001750\n",
              "25%        0.041050\n",
              "50%        6.390000\n",
              "75%       11.500000\n",
              "max       18.200000\n",
              "Name: CO2, dtype: float64"
            ]
          },
          "execution_count": 4,
          "metadata": {},
          "output_type": "execute_result"
        }
      ],
      "source": [
        "#data distribution\n",
        "co2.CO2.describe()"
      ]
    },
    {
      "cell_type": "code",
      "execution_count": null,
      "id": "9b89634b",
      "metadata": {
        "id": "9b89634b",
        "outputId": "25f8e6dc-a0c6-4527-c786-a7de7ca34723"
      },
      "outputs": [
        {
          "data": {
            "text/plain": [
              "Year    0\n",
              "CO2     0\n",
              "dtype: int64"
            ]
          },
          "execution_count": 5,
          "metadata": {},
          "output_type": "execute_result"
        }
      ],
      "source": [
        "#checking for NAN values\n",
        "co2.isna().sum()"
      ]
    },
    {
      "cell_type": "code",
      "execution_count": null,
      "id": "02d23e90",
      "metadata": {
        "id": "02d23e90",
        "outputId": "96413f35-718a-4f81-aab5-e134e2b6e613"
      },
      "outputs": [
        {
          "data": {
            "text/plain": [
              "Year    float64\n",
              "CO2     float64\n",
              "dtype: object"
            ]
          },
          "execution_count": 6,
          "metadata": {},
          "output_type": "execute_result"
        }
      ],
      "source": [
        "#data types\n",
        "co2.dtypes"
      ]
    },
    {
      "cell_type": "code",
      "execution_count": null,
      "id": "c10bec87",
      "metadata": {
        "id": "c10bec87",
        "outputId": "72d77c8e-1155-4568-c58e-033da9e5de8a"
      },
      "outputs": [
        {
          "name": "stdout",
          "output_type": "stream",
          "text": [
            "nan\n"
          ]
        }
      ],
      "source": [
        "#checking for time intervals\n",
        "x=co2.Year.diff()\n",
        "for i in  x:\n",
        "    if i == 1:\n",
        "        pass\n",
        "    else:\n",
        "        print(i)"
      ]
    },
    {
      "cell_type": "code",
      "execution_count": null,
      "id": "bedf836a",
      "metadata": {
        "id": "bedf836a"
      },
      "outputs": [],
      "source": [
        "data=co2.copy()"
      ]
    },
    {
      "cell_type": "markdown",
      "id": "d09b8f8b",
      "metadata": {
        "id": "d09b8f8b"
      },
      "source": [
        "#### converting the float to datetime format"
      ]
    },
    {
      "cell_type": "code",
      "execution_count": null,
      "id": "b4b16862",
      "metadata": {
        "id": "b4b16862",
        "outputId": "07341884-f0b5-4a70-e3de-cdfb477a0f11"
      },
      "outputs": [
        {
          "data": {
            "text/plain": [
              "DatetimeIndex(['1800-12-31', '1801-12-31', '1802-12-31', '1803-12-31',\n",
              "               '1804-12-31', '1805-12-31', '1806-12-31', '1807-12-31',\n",
              "               '1808-12-31', '1809-12-31',\n",
              "               ...\n",
              "               '2005-12-31', '2006-12-31', '2007-12-31', '2008-12-31',\n",
              "               '2009-12-31', '2010-12-31', '2011-12-31', '2012-12-31',\n",
              "               '2013-12-31', '2014-12-31'],\n",
              "              dtype='datetime64[ns]', length=215, freq='A-DEC')"
            ]
          },
          "execution_count": 9,
          "metadata": {},
          "output_type": "execute_result"
        }
      ],
      "source": [
        "Year = pd.date_range(start=\"1/1/1800\",end=\"1/1/2015\",freq='A')\n",
        "Year"
      ]
    },
    {
      "cell_type": "code",
      "execution_count": null,
      "id": "1256fc45",
      "metadata": {
        "scrolled": true,
        "id": "1256fc45",
        "outputId": "f3c3c6f2-fe63-44c0-89e9-8d4120d87ee8"
      },
      "outputs": [
        {
          "data": {
            "text/html": [
              "<div>\n",
              "<style scoped>\n",
              "    .dataframe tbody tr th:only-of-type {\n",
              "        vertical-align: middle;\n",
              "    }\n",
              "\n",
              "    .dataframe tbody tr th {\n",
              "        vertical-align: top;\n",
              "    }\n",
              "\n",
              "    .dataframe thead th {\n",
              "        text-align: right;\n",
              "    }\n",
              "</style>\n",
              "<table border=\"1\" class=\"dataframe\">\n",
              "  <thead>\n",
              "    <tr style=\"text-align: right;\">\n",
              "      <th></th>\n",
              "      <th>CO2</th>\n",
              "    </tr>\n",
              "    <tr>\n",
              "      <th>Year</th>\n",
              "      <th></th>\n",
              "    </tr>\n",
              "  </thead>\n",
              "  <tbody>\n",
              "    <tr>\n",
              "      <th>1800-12-31</th>\n",
              "      <td>0.00568</td>\n",
              "    </tr>\n",
              "    <tr>\n",
              "      <th>1801-12-31</th>\n",
              "      <td>0.00561</td>\n",
              "    </tr>\n",
              "    <tr>\n",
              "      <th>1802-12-31</th>\n",
              "      <td>0.00555</td>\n",
              "    </tr>\n",
              "    <tr>\n",
              "      <th>1803-12-31</th>\n",
              "      <td>0.00548</td>\n",
              "    </tr>\n",
              "    <tr>\n",
              "      <th>1804-12-31</th>\n",
              "      <td>0.00542</td>\n",
              "    </tr>\n",
              "  </tbody>\n",
              "</table>\n",
              "</div>"
            ],
            "text/plain": [
              "                CO2\n",
              "Year               \n",
              "1800-12-31  0.00568\n",
              "1801-12-31  0.00561\n",
              "1802-12-31  0.00555\n",
              "1803-12-31  0.00548\n",
              "1804-12-31  0.00542"
            ]
          },
          "execution_count": 10,
          "metadata": {},
          "output_type": "execute_result"
        }
      ],
      "source": [
        "data=data.drop(['Year'],axis=1)\n",
        "data['Year'] =Year\n",
        "#data['Year'] = pd.to_datetime(data['Year'], format='%Y')\n",
        "#\n",
        "#data=data.drop(['Year'],axis=1)\n",
        "data.set_index(data.Year,inplace=True)\n",
        "#data=data.drop(['Year'],axis=1)\n",
        "data=data.iloc[:,0:1]\n",
        "data.head()"
      ]
    },
    {
      "cell_type": "code",
      "execution_count": null,
      "id": "9ecb772f",
      "metadata": {
        "scrolled": true,
        "id": "9ecb772f",
        "outputId": "08c9f4c1-9a1a-4c6e-e92c-6ceb9a9db1f6"
      },
      "outputs": [
        {
          "data": {
            "text/plain": [
              "CO2    float64\n",
              "dtype: object"
            ]
          },
          "execution_count": 11,
          "metadata": {},
          "output_type": "execute_result"
        }
      ],
      "source": [
        "data.dtypes"
      ]
    },
    {
      "cell_type": "markdown",
      "id": "da524bfb",
      "metadata": {
        "id": "da524bfb"
      },
      "source": [
        "### Analysing Data With Graphs"
      ]
    },
    {
      "cell_type": "code",
      "execution_count": null,
      "id": "d1ae680f",
      "metadata": {
        "id": "d1ae680f",
        "outputId": "0abdcd03-12f1-4447-c7b9-1faa225b299e"
      },
      "outputs": [
        {
          "data": {
            "image/png": "[encoded data removed]",
            "text/plain": [
              "<Figure size 432x288 with 1 Axes>"
            ]
          },
          "metadata": {
            "needs_background": "light"
          },
          "output_type": "display_data"
        }
      ],
      "source": [
        "#line plot\n",
        "data.plot(color='black')\n",
        "plt.xlabel(\"Year\")\n",
        "plt.ylabel(\"Co2 \")\n",
        "plt.grid()\n",
        "plt.show()"
      ]
    },
    {
      "cell_type": "markdown",
      "id": "e8d6b39e",
      "metadata": {
        "id": "e8d6b39e"
      },
      "source": [
        "  **from above lineplot shows that C02 emission over the period of time is increasing therefore data is showing exponential trend but no seasonality is present in data."
      ]
    },
    {
      "cell_type": "code",
      "execution_count": null,
      "id": "89521138",
      "metadata": {
        "id": "89521138",
        "outputId": "f147e16b-04b6-48db-9de3-489049e9d7c7"
      },
      "outputs": [
        {
          "data": {
            "image/png": "[encoded data removed]",
            "text/plain": [
              "<Figure size 432x288 with 4 Axes>"
            ]
          },
          "metadata": {
            "needs_background": "light"
          },
          "output_type": "display_data"
        }
      ],
      "source": [
        "from statsmodels.tsa.seasonal import seasonal_decompose\n",
        "decompose = seasonal_decompose(data.CO2)\n",
        "decompose.plot()\n",
        "plt.grid()\n",
        "plt.show()"
      ]
    },
    {
      "cell_type": "markdown",
      "id": "85f1ef77",
      "metadata": {
        "id": "85f1ef77"
      },
      "source": [
        "**Seasonal demoposition shows that \n",
        " 1. avarage is not constant for the co2 emission over the period of time\n",
        " 2. there is a tred followed by data which is of exponential type \n",
        " 3. seasonality is not present in the data\n",
        " 4. there are no residuals"
      ]
    },
    {
      "cell_type": "code",
      "execution_count": null,
      "id": "d31a45c3",
      "metadata": {
        "scrolled": true,
        "id": "d31a45c3",
        "outputId": "2d434613-989b-4784-fbd8-026c3b264162"
      },
      "outputs": [
        {
          "data": {
            "text/plain": [
              "<AxesSubplot:ylabel='Density'>"
            ]
          },
          "execution_count": 14,
          "metadata": {},
          "output_type": "execute_result"
        },
        {
          "data": {
            "image/png": "[encoded data removed]",
            "text/plain": [
              "<Figure size 432x288 with 1 Axes>"
            ]
          },
          "metadata": {
            "needs_background": "light"
          },
          "output_type": "display_data"
        }
      ],
      "source": [
        "data.plot(kind='kde')"
      ]
    },
    {
      "cell_type": "code",
      "execution_count": null,
      "id": "c218dc2e",
      "metadata": {
        "id": "c218dc2e",
        "outputId": "956f8168-9c3a-4c7e-cf7f-f12c3f05ea10"
      },
      "outputs": [
        {
          "data": {
            "image/png": "[encoded data removed]",
            "text/plain": [
              "<Figure size 432x288 with 1 Axes>"
            ]
          },
          "metadata": {
            "needs_background": "light"
          },
          "output_type": "display_data"
        }
      ],
      "source": [
        "#lag plot\n",
        "from pandas.plotting import lag_plot\n",
        "lag_plot(data,)\n",
        "plt.grid()\n",
        "plt.show()"
      ]
    },
    {
      "cell_type": "markdown",
      "id": "1a3ca594",
      "metadata": {
        "id": "1a3ca594"
      },
      "source": [
        "**lag plots shows that there is positive liner relation between variable and its own lag variable "
      ]
    },
    {
      "cell_type": "code",
      "execution_count": null,
      "id": "feb82137",
      "metadata": {
        "id": "feb82137",
        "outputId": "eadc391e-6911-4059-fb98-e08296ab179d"
      },
      "outputs": [
        {
          "data": {
            "image/png": "[encoded data removed]",
            "text/plain": [
              "<Figure size 432x288 with 1 Axes>"
            ]
          },
          "metadata": {
            "needs_background": "light"
          },
          "output_type": "display_data"
        }
      ],
      "source": [
        "from pandas.plotting import autocorrelation_plot\n",
        "autocorrelation_plot(data)\n",
        "plt.show()"
      ]
    },
    {
      "cell_type": "code",
      "execution_count": null,
      "id": "3ce4aa60",
      "metadata": {
        "scrolled": true,
        "id": "3ce4aa60",
        "outputId": "6b6c838a-e025-4a07-cb08-c160ae64589c"
      },
      "outputs": [
        {
          "data": {
            "image/png": "[encoded data removed]",
            "text/plain": [
              "<Figure size 432x288 with 1 Axes>"
            ]
          },
          "metadata": {
            "needs_background": "light"
          },
          "output_type": "display_data"
        }
      ],
      "source": [
        "import statsmodels.graphics.tsaplots as tsa_plots\n",
        "tsa_plots.plot_acf(data.CO2)\n",
        "plt.show()"
      ]
    },
    {
      "cell_type": "markdown",
      "id": "5ca81be5",
      "metadata": {
        "id": "5ca81be5"
      },
      "source": [
        "**from the above graph we can examine that nearest time lag has good autocorrelation but as we reach time      period which are far away the autocorrelation is decressing"
      ]
    },
    {
      "cell_type": "code",
      "execution_count": null,
      "id": "a9243f6b",
      "metadata": {
        "id": "a9243f6b"
      },
      "outputs": [],
      "source": []
    },
    {
      "cell_type": "markdown",
      "id": "cb4870d9",
      "metadata": {
        "id": "cb4870d9"
      },
      "source": [
        "Modifing the data \n",
        "* including columns : \"t\"-time,\"t_square\"-time square,\"log_co2\"-log of Co2"
      ]
    },
    {
      "cell_type": "code",
      "execution_count": null,
      "id": "1240a643",
      "metadata": {
        "scrolled": false,
        "id": "1240a643",
        "outputId": "a59c072e-9a7d-4574-82c6-3a934682921e"
      },
      "outputs": [
        {
          "data": {
            "text/html": [
              "<div>\n",
              "<style scoped>\n",
              "    .dataframe tbody tr th:only-of-type {\n",
              "        vertical-align: middle;\n",
              "    }\n",
              "\n",
              "    .dataframe tbody tr th {\n",
              "        vertical-align: top;\n",
              "    }\n",
              "\n",
              "    .dataframe thead th {\n",
              "        text-align: right;\n",
              "    }\n",
              "</style>\n",
              "<table border=\"1\" class=\"dataframe\">\n",
              "  <thead>\n",
              "    <tr style=\"text-align: right;\">\n",
              "      <th></th>\n",
              "      <th>CO2</th>\n",
              "      <th>t</th>\n",
              "      <th>t_squared</th>\n",
              "      <th>log_CO2</th>\n",
              "    </tr>\n",
              "    <tr>\n",
              "      <th>Year</th>\n",
              "      <th></th>\n",
              "      <th></th>\n",
              "      <th></th>\n",
              "      <th></th>\n",
              "    </tr>\n",
              "  </thead>\n",
              "  <tbody>\n",
              "    <tr>\n",
              "      <th>1800-12-31</th>\n",
              "      <td>0.00568</td>\n",
              "      <td>1</td>\n",
              "      <td>1</td>\n",
              "      <td>-5.170804</td>\n",
              "    </tr>\n",
              "    <tr>\n",
              "      <th>1801-12-31</th>\n",
              "      <td>0.00561</td>\n",
              "      <td>2</td>\n",
              "      <td>4</td>\n",
              "      <td>-5.183205</td>\n",
              "    </tr>\n",
              "    <tr>\n",
              "      <th>1802-12-31</th>\n",
              "      <td>0.00555</td>\n",
              "      <td>3</td>\n",
              "      <td>9</td>\n",
              "      <td>-5.193957</td>\n",
              "    </tr>\n",
              "    <tr>\n",
              "      <th>1803-12-31</th>\n",
              "      <td>0.00548</td>\n",
              "      <td>4</td>\n",
              "      <td>16</td>\n",
              "      <td>-5.206650</td>\n",
              "    </tr>\n",
              "    <tr>\n",
              "      <th>1804-12-31</th>\n",
              "      <td>0.00542</td>\n",
              "      <td>5</td>\n",
              "      <td>25</td>\n",
              "      <td>-5.217659</td>\n",
              "    </tr>\n",
              "  </tbody>\n",
              "</table>\n",
              "</div>"
            ],
            "text/plain": [
              "                CO2  t  t_squared   log_CO2\n",
              "Year                                       \n",
              "1800-12-31  0.00568  1          1 -5.170804\n",
              "1801-12-31  0.00561  2          4 -5.183205\n",
              "1802-12-31  0.00555  3          9 -5.193957\n",
              "1803-12-31  0.00548  4         16 -5.206650\n",
              "1804-12-31  0.00542  5         25 -5.217659"
            ]
          },
          "execution_count": 18,
          "metadata": {},
          "output_type": "execute_result"
        }
      ],
      "source": [
        "data_1=data.copy()\n",
        "data_1[\"t\"] = np.arange(1,216)\n",
        "data_1[\"t_squared\"] = data_1[\"t\"]*data_1[\"t\"]\n",
        "data_1[\"log_CO2\"] = np.log(data[\"CO2\"])\n",
        "data_2=data_1.drop(['CO2'],axis=1)\n",
        "data_3=data_2.drop(['log_CO2'],axis=1)\n",
        "data_1.head()\n"
      ]
    },
    {
      "cell_type": "markdown",
      "id": "193db8cd",
      "metadata": {
        "id": "193db8cd"
      },
      "source": [
        "### splitting modified data into training and testing"
      ]
    },
    {
      "cell_type": "code",
      "execution_count": null,
      "id": "552817f5",
      "metadata": {
        "id": "552817f5"
      },
      "outputs": [],
      "source": [
        "train_1=data_1.head(172)\n",
        "test_1=data_1.tail(43)"
      ]
    },
    {
      "cell_type": "code",
      "execution_count": null,
      "id": "98041fb4",
      "metadata": {
        "id": "98041fb4",
        "outputId": "6c036506-5066-44d6-e320-811662ce92ae"
      },
      "outputs": [
        {
          "data": {
            "text/plain": [
              "(43, 4)"
            ]
          },
          "execution_count": 20,
          "metadata": {},
          "output_type": "execute_result"
        }
      ],
      "source": [
        "test_1.shape"
      ]
    },
    {
      "cell_type": "code",
      "execution_count": null,
      "id": "6d4a9838",
      "metadata": {
        "id": "6d4a9838"
      },
      "outputs": [],
      "source": []
    },
    {
      "cell_type": "markdown",
      "id": "7e65f61a",
      "metadata": {
        "id": "7e65f61a"
      },
      "source": [
        "#### square_root transformation"
      ]
    },
    {
      "cell_type": "code",
      "execution_count": null,
      "id": "26dea4df",
      "metadata": {
        "id": "26dea4df"
      },
      "outputs": [],
      "source": [
        "## square_root transformation\n",
        "\n",
        "sqrt_ = pd.DataFrame()\n",
        "sqrt_['CO2'] = sqrt(data['CO2'])\n",
        "\n",
        "sqrt_=pd.concat([sqrt_,data_3],axis=1)\n",
        "sqrt_[\"log_CO2\"]=np.log(sqrt_[\"CO2\"])\n",
        "train_sqrt_=sqrt_.head(172)\n",
        "test_sqrt_=sqrt_.tail(43)\n",
        "\n",
        "def inverse_sqrt(datat__):\n",
        "    inv_sqrt = datat__*datat__\n",
        "    return inv_sqrt"
      ]
    },
    {
      "cell_type": "markdown",
      "id": "da2c4f34",
      "metadata": {
        "id": "da2c4f34"
      },
      "source": [
        "#### log transformation"
      ]
    },
    {
      "cell_type": "code",
      "execution_count": null,
      "id": "9b89c3b4",
      "metadata": {
        "scrolled": false,
        "id": "9b89c3b4",
        "outputId": "64c8b2f8-7255-475f-d0ba-efc8de592c13"
      },
      "outputs": [
        {
          "name": "stderr",
          "output_type": "stream",
          "text": [
            "C:\\Users\\piyus\\anaconda3\\lib\\site-packages\\pandas\\core\\arraylike.py:364: RuntimeWarning: invalid value encountered in log\n",
            "  result = getattr(ufunc, method)(*inputs, **kwargs)\n"
          ]
        }
      ],
      "source": [
        "\n",
        "\n",
        "Log_ = pd.DataFrame()\n",
        "Log_['CO2'] = log(data['CO2'])\n",
        "Log_.head()\n",
        "Log_=pd.concat([Log_,data_3],axis=1)\n",
        "Log_[\"log_CO2\"]=np.log(Log_[\"CO2\"])\n",
        "train_Log_=Log_.head(172)\n",
        "test_Log_=Log_.tail(43)\n",
        "\n",
        "def inverse_log(log_data):\n",
        "    in_log=np.exp(log_data)\n",
        "    print(in_log)"
      ]
    },
    {
      "cell_type": "markdown",
      "id": "dd159ec4",
      "metadata": {
        "id": "dd159ec4"
      },
      "source": [
        "#### boxcox Transformation"
      ]
    },
    {
      "cell_type": "code",
      "execution_count": null,
      "id": "0d42af9e",
      "metadata": {
        "id": "0d42af9e"
      },
      "outputs": [],
      "source": [
        "\n",
        "\n",
        "from scipy.stats import boxcox\n",
        "from math import exp\n",
        "# box-cox transform\n",
        "result, lmbda = boxcox(data['CO2'])\n",
        "boxcox_ = pd.DataFrame(result, columns=['CO2'])\n",
        "\n",
        "boxcox_[\"t\"]=np.arange(1,216)\n",
        "\n",
        "boxcox_[\"t_squared\"]=boxcox_[\"t\"]*boxcox_[\"t\"]\n",
        "boxcox_[\"log_CO2\"]=np.log(boxcox_['CO2'] )\n",
        "boxcox_['log_CO2']=boxcox_['log_CO2'].fillna(0)\n",
        "\n",
        "train_boxcox_=boxcox_.head(172)\n",
        "test_boxcox_=boxcox_.tail(43)\n",
        "#invert difference\n",
        "def invert_boxcox(value, lam):\n",
        "    if lam == 0:\n",
        "        return exp(value)\n",
        "    return exp(log(lam * value + 1) / lam)"
      ]
    },
    {
      "cell_type": "markdown",
      "id": "8312e13a",
      "metadata": {
        "id": "8312e13a"
      },
      "source": [
        "#### resreciprocal transformation"
      ]
    },
    {
      "cell_type": "code",
      "execution_count": null,
      "id": "38b08f19",
      "metadata": {
        "id": "38b08f19"
      },
      "outputs": [],
      "source": [
        "\n",
        "\n",
        "rec=np.reciprocal(data.CO2)\n",
        "recipro=pd.DataFrame(rec,columns=['CO2'])\n",
        "recipro=pd.concat([recipro,data_3],axis=1)\n",
        "recipro['log_CO2']=np.log(recipro['CO2'])\n",
        "train_recipro=recipro.head(172)\n",
        "test_recipro=recipro.tail(43)"
      ]
    },
    {
      "cell_type": "code",
      "execution_count": null,
      "id": "4715c48f",
      "metadata": {
        "id": "4715c48f"
      },
      "outputs": [],
      "source": [
        "#spliting the original data into training and testing set\n",
        "train=data.head(172)\n",
        "test=data.tail(43)"
      ]
    },
    {
      "cell_type": "code",
      "execution_count": null,
      "id": "8afdd1de",
      "metadata": {
        "id": "8afdd1de"
      },
      "outputs": [],
      "source": []
    },
    {
      "cell_type": "markdown",
      "id": "a15b9464",
      "metadata": {
        "id": "a15b9464"
      },
      "source": [
        "## Function to build model on \"Naives Aproch \", \" Simple Average \",\" Moving Average \""
      ]
    },
    {
      "cell_type": "code",
      "execution_count": null,
      "id": "1fc7d90e",
      "metadata": {
        "id": "1fc7d90e"
      },
      "outputs": [],
      "source": [
        "from sklearn.metrics import classification_report\n",
        "from sklearn.model_selection import cross_val_score\n",
        "\n",
        "\n",
        "def errors1 (train,test):\n",
        "    moddel= {\n",
        "        'Naives Aproch' : {\n",
        "            'model' : np.asarray(train.CO2)[len(np.asarray(train.CO2))-1]\n",
        "        \n",
        "    },\n",
        "        'Simple Average' : {\n",
        "            \n",
        "            'model' : train['CO2'].mean()\n",
        "        },\n",
        "        'Moving Average' :{\n",
        "            'model' : train['CO2'].rolling(2).mean().iloc[-1]\n",
        "        }\n",
        "        \n",
        "}\n",
        "    scores = []\n",
        "    for moddel_name, config in moddel.items():\n",
        "        gs =  config['model']\n",
        "        scores.append({\n",
        "            'model': moddel_name,\n",
        "            'result':  np.mean(np.abs((gs-test.CO2)/test.CO2)*100)\n",
        "\n",
        "        })\n",
        "   \n",
        "    return pd.DataFrame(scores,columns=['model','result'])\n",
        "\n",
        "\n",
        "    "
      ]
    },
    {
      "cell_type": "markdown",
      "id": "db53a92d",
      "metadata": {
        "id": "db53a92d"
      },
      "source": [
        "### putting the result into singal dataframe.\n"
      ]
    },
    {
      "cell_type": "code",
      "execution_count": null,
      "id": "75cdd42d",
      "metadata": {
        "scrolled": true,
        "id": "75cdd42d",
        "outputId": "4fdda4b0-457c-4fdb-aaa5-0121a03adc83"
      },
      "outputs": [
        {
          "data": {
            "text/html": [
              "<div>\n",
              "<style scoped>\n",
              "    .dataframe tbody tr th:only-of-type {\n",
              "        vertical-align: middle;\n",
              "    }\n",
              "\n",
              "    .dataframe tbody tr th {\n",
              "        vertical-align: top;\n",
              "    }\n",
              "\n",
              "    .dataframe thead th {\n",
              "        text-align: right;\n",
              "    }\n",
              "</style>\n",
              "<table border=\"1\" class=\"dataframe\">\n",
              "  <thead>\n",
              "    <tr style=\"text-align: right;\">\n",
              "      <th></th>\n",
              "      <th>model</th>\n",
              "      <th>original_error</th>\n",
              "      <th>sqrt_error</th>\n",
              "      <th>log_error</th>\n",
              "      <th>BoxCox_error</th>\n",
              "      <th>recipro_error</th>\n",
              "    </tr>\n",
              "  </thead>\n",
              "  <tbody>\n",
              "    <tr>\n",
              "      <th>0</th>\n",
              "      <td>Naives Aproch</td>\n",
              "      <td>4.649507</td>\n",
              "      <td>2.337979</td>\n",
              "      <td>1.675075</td>\n",
              "      <td>2.237067</td>\n",
              "      <td>4.766006</td>\n",
              "    </tr>\n",
              "    <tr>\n",
              "      <th>1</th>\n",
              "      <td>Simple Average</td>\n",
              "      <td>73.892246</td>\n",
              "      <td>61.732583</td>\n",
              "      <td>131.961075</td>\n",
              "      <td>96.683402</td>\n",
              "      <td>137792.336173</td>\n",
              "    </tr>\n",
              "    <tr>\n",
              "      <th>2</th>\n",
              "      <td>Moving Average</td>\n",
              "      <td>4.972519</td>\n",
              "      <td>2.510991</td>\n",
              "      <td>1.802127</td>\n",
              "      <td>2.403927</td>\n",
              "      <td>5.183939</td>\n",
              "    </tr>\n",
              "  </tbody>\n",
              "</table>\n",
              "</div>"
            ],
            "text/plain": [
              "            model  original_error  sqrt_error   log_error  BoxCox_error  \\\n",
              "0   Naives Aproch        4.649507    2.337979    1.675075      2.237067   \n",
              "1  Simple Average       73.892246   61.732583  131.961075     96.683402   \n",
              "2  Moving Average        4.972519    2.510991    1.802127      2.403927   \n",
              "\n",
              "   recipro_error  \n",
              "0       4.766006  \n",
              "1  137792.336173  \n",
              "2       5.183939  "
            ]
          },
          "execution_count": 27,
          "metadata": {},
          "output_type": "execute_result"
        }
      ],
      "source": [
        "\n",
        "result_driven = pd.DataFrame()\n",
        "a_=errors1(train,test)\n",
        "a=a_.rename(columns={'result':'original_error'},inplace=True)\n",
        "b_=errors1(train_sqrt_,test_sqrt_)\n",
        "b=b_.rename(columns={'result':'sqrt_error'},inplace=True)\n",
        "c_=errors1(train_Log_,test_Log_)\n",
        "c=c_.rename(columns={'result':'log_error'},inplace=True)\n",
        "d_=errors1(train_boxcox_,test_boxcox_)\n",
        "d=d_.rename(columns={'result':'BoxCox_error'},inplace=True)\n",
        "#e_=errors1(train_Scaler_,test_Scaler_)\n",
        "#e=e_.rename(columns={'result':'MinMax_error'},inplace=True)\n",
        "f_=errors1(train_recipro,test_recipro)\n",
        "f=f_.rename(columns={'result':'recipro_error'},inplace=True)\n",
        "result_driven = pd.concat([a_,b_.drop(['model'],axis=1),c_.drop(['model'],axis=1),d_.drop(['model'],axis=1),f_.drop(['model'],axis=1)],axis=1)\n",
        "result_driven"
      ]
    },
    {
      "cell_type": "code",
      "execution_count": null,
      "id": "e0d3f2cd",
      "metadata": {
        "id": "e0d3f2cd"
      },
      "outputs": [],
      "source": []
    },
    {
      "cell_type": "markdown",
      "id": "54f875c1",
      "metadata": {
        "id": "54f875c1"
      },
      "source": [
        "## Function to build model on \"Simple Exponential \", \" Holts \"."
      ]
    },
    {
      "cell_type": "code",
      "execution_count": null,
      "id": "f78ab9ea",
      "metadata": {
        "id": "f78ab9ea"
      },
      "outputs": [],
      "source": [
        "def errors2 (train,test):\n",
        "    mooodel={\n",
        "        \"Simple Exponential\" :{\n",
        "            'model': SimpleExpSmoothing(np.asarray(train['CO2'])).fit(smoothing_level=0.9)\n",
        "        },\n",
        "        \"Holts\" :{\n",
        "            'model':Holt(np.asarray(train['CO2'])).fit(smoothing_level = 0.1,smoothing_slope = 0.1)\n",
        "        }\n",
        "    }\n",
        "    \n",
        "    scores = []\n",
        "    for moddel_name, config in mooodel.items():\n",
        "        gs =  config['model']\n",
        "        pred = gs.forecast(len(test))\n",
        "        scores.append({\n",
        "            'model': moddel_name,\n",
        "            'result':  np.mean(np.abs((pred-test.CO2)/test.CO2)*100)\n",
        "\n",
        "        })\n",
        "   \n",
        "    return pd.DataFrame(scores,columns=['model','result'])\n"
      ]
    },
    {
      "cell_type": "code",
      "execution_count": null,
      "id": "f8acc987",
      "metadata": {
        "scrolled": true,
        "id": "f8acc987",
        "outputId": "2558de12-e3b6-4196-8f0a-cc1beadb6175"
      },
      "outputs": [
        {
          "data": {
            "text/html": [
              "<div>\n",
              "<style scoped>\n",
              "    .dataframe tbody tr th:only-of-type {\n",
              "        vertical-align: middle;\n",
              "    }\n",
              "\n",
              "    .dataframe tbody tr th {\n",
              "        vertical-align: top;\n",
              "    }\n",
              "\n",
              "    .dataframe thead th {\n",
              "        text-align: right;\n",
              "    }\n",
              "</style>\n",
              "<table border=\"1\" class=\"dataframe\">\n",
              "  <thead>\n",
              "    <tr style=\"text-align: right;\">\n",
              "      <th></th>\n",
              "      <th>model</th>\n",
              "      <th>original_error</th>\n",
              "      <th>sqrt_error</th>\n",
              "      <th>log_error</th>\n",
              "      <th>BoxCox_error</th>\n",
              "      <th>recipro_error</th>\n",
              "    </tr>\n",
              "  </thead>\n",
              "  <tbody>\n",
              "    <tr>\n",
              "      <th>0</th>\n",
              "      <td>Simple Exponential</td>\n",
              "      <td>4.742296</td>\n",
              "      <td>2.388077</td>\n",
              "      <td>1.712167</td>\n",
              "      <td>2.285605</td>\n",
              "      <td>4.890105</td>\n",
              "    </tr>\n",
              "    <tr>\n",
              "      <th>1</th>\n",
              "      <td>Holts</td>\n",
              "      <td>18.766422</td>\n",
              "      <td>11.252373</td>\n",
              "      <td>10.030858</td>\n",
              "      <td>12.181049</td>\n",
              "      <td>2788.654244</td>\n",
              "    </tr>\n",
              "  </tbody>\n",
              "</table>\n",
              "</div>"
            ],
            "text/plain": [
              "                model  original_error  sqrt_error  log_error  BoxCox_error  \\\n",
              "0  Simple Exponential        4.742296    2.388077   1.712167      2.285605   \n",
              "1               Holts       18.766422   11.252373  10.030858     12.181049   \n",
              "\n",
              "   recipro_error  \n",
              "0       4.890105  \n",
              "1    2788.654244  "
            ]
          },
          "execution_count": 29,
          "metadata": {},
          "output_type": "execute_result"
        }
      ],
      "source": [
        "#putting result into single data frame\n",
        "warnings.filterwarnings(\"ignore\")\n",
        "result_exp = pd.DataFrame()\n",
        "x_=errors2(train,test)\n",
        "x=x_.rename(columns={'result':'original_error'},inplace=True)\n",
        "y_=errors2(train_sqrt_,test_sqrt_)\n",
        "y=y_.rename(columns={'result':'sqrt_error'},inplace=True)\n",
        "z_=errors2(train_Log_,test_Log_)\n",
        "z=z_.rename(columns={'result':'log_error'},inplace=True)\n",
        "v_=errors2(train_boxcox_,test_boxcox_)\n",
        "v=v_.rename(columns={'result':'BoxCox_error'},inplace=True)\n",
        "#u_=errors2(train_Scaler_,test_Scaler_)\n",
        "#u=u_.rename(columns={'result':'MinMax_error'},inplace=True)\n",
        "nx_=errors2(train_recipro,test_recipro)\n",
        "nx=nx_.rename(columns={'result':'recipro_error'},inplace=True)\n",
        "result_exp = pd.concat([x_,y_.drop(['model'],axis=1),z_.drop(['model'],axis=1),v_.drop(['model'],axis=1),nx_.drop(['model'],axis=1)],axis=1)\n",
        "result_exp"
      ]
    },
    {
      "cell_type": "code",
      "execution_count": null,
      "id": "a3bf9983",
      "metadata": {
        "id": "a3bf9983"
      },
      "outputs": [],
      "source": []
    },
    {
      "cell_type": "markdown",
      "id": "3956e36b",
      "metadata": {
        "id": "3956e36b"
      },
      "source": [
        "## Function to build model on \"Simple Liner model \", \" Exponential Linear model \"."
      ]
    },
    {
      "cell_type": "code",
      "execution_count": null,
      "id": "0a68e51e",
      "metadata": {
        "id": "0a68e51e"
      },
      "outputs": [],
      "source": [
        "def errors3 (train,test):\n",
        "    mooodel={\n",
        "        \"Simple Liner model\" :{\n",
        "            'model': smf.ols('CO2~t',data=train).fit()\n",
        "        },\n",
        "        \"Exponential Linear model\" :{\n",
        "            'model': smf.ols('log_CO2~t',data=train).fit()\n",
        "        }\n",
        "    }\n",
        "    scores = []\n",
        "    for moddel_name, config in mooodel.items():\n",
        "        gs =  config['model']\n",
        "        pred = pd.Series(gs.predict(test[\"t\"]))\n",
        "        scores.append({\n",
        "            'model': moddel_name,\n",
        "            'result':  np.mean(np.abs((pred-test.CO2)/test.CO2)*100)\n",
        "        })\n",
        "    return pd.DataFrame(scores,columns=['model','result'])"
      ]
    },
    {
      "cell_type": "code",
      "execution_count": null,
      "id": "49f8e800",
      "metadata": {
        "id": "49f8e800",
        "outputId": "13c8b5c1-d50b-4e8a-ac3f-249aa9d365ca"
      },
      "outputs": [
        {
          "data": {
            "text/html": [
              "<div>\n",
              "<style scoped>\n",
              "    .dataframe tbody tr th:only-of-type {\n",
              "        vertical-align: middle;\n",
              "    }\n",
              "\n",
              "    .dataframe tbody tr th {\n",
              "        vertical-align: top;\n",
              "    }\n",
              "\n",
              "    .dataframe thead th {\n",
              "        text-align: right;\n",
              "    }\n",
              "</style>\n",
              "<table border=\"1\" class=\"dataframe\">\n",
              "  <thead>\n",
              "    <tr style=\"text-align: right;\">\n",
              "      <th></th>\n",
              "      <th>model</th>\n",
              "      <th>original_error</th>\n",
              "      <th>sqrt_error</th>\n",
              "      <th>log_error</th>\n",
              "      <th>BoxCox_error</th>\n",
              "      <th>recipro_error</th>\n",
              "    </tr>\n",
              "  </thead>\n",
              "  <tbody>\n",
              "    <tr>\n",
              "      <th>0</th>\n",
              "      <td>Simple Liner model</td>\n",
              "      <td>16.483920</td>\n",
              "      <td>10.795550</td>\n",
              "      <td>108.404518</td>\n",
              "      <td>46.136285</td>\n",
              "      <td>204300.419266</td>\n",
              "    </tr>\n",
              "    <tr>\n",
              "      <th>1</th>\n",
              "      <td>Exponential Linear model</td>\n",
              "      <td>64.469798</td>\n",
              "      <td>28.047605</td>\n",
              "      <td>42.807310</td>\n",
              "      <td>63.323979</td>\n",
              "      <td>9700.050232</td>\n",
              "    </tr>\n",
              "  </tbody>\n",
              "</table>\n",
              "</div>"
            ],
            "text/plain": [
              "                      model  original_error  sqrt_error   log_error  \\\n",
              "0        Simple Liner model       16.483920   10.795550  108.404518   \n",
              "1  Exponential Linear model       64.469798   28.047605   42.807310   \n",
              "\n",
              "   BoxCox_error  recipro_error  \n",
              "0     46.136285  204300.419266  \n",
              "1     63.323979    9700.050232  "
            ]
          },
          "execution_count": 31,
          "metadata": {},
          "output_type": "execute_result"
        }
      ],
      "source": [
        "##putting data into single dataframe\n",
        "result_linear = pd.DataFrame()\n",
        "k_=errors3(train_1,test_1)\n",
        "k=k_.rename(columns={'result':'original_error'},inplace=True)\n",
        "l_=errors3(train_sqrt_,test_sqrt_)\n",
        "l=l_.rename(columns={'result':'sqrt_error'},inplace=True)\n",
        "m_=errors3(train_Log_,test_Log_)\n",
        "m=m_.rename(columns={'result':'log_error'},inplace=True)\n",
        "t_=errors3(train_boxcox_,test_boxcox_)\n",
        "t=t_.rename(columns={'result':'BoxCox_error'},inplace=True)\n",
        "nc_=errors3(train_recipro,test_recipro)\n",
        "nc=nc_.rename(columns={'result':'recipro_error'},inplace=True)\n",
        "result_linear = pd.concat([k_,l_.drop(['model'],axis=1),m_.drop(['model'],axis=1),t_.drop(['model'],axis=1),nc_.drop(['model'],axis=1)],axis=1)\n",
        "result_linear"
      ]
    },
    {
      "cell_type": "code",
      "execution_count": null,
      "id": "803a7c6a",
      "metadata": {
        "id": "803a7c6a"
      },
      "outputs": [],
      "source": []
    },
    {
      "cell_type": "markdown",
      "id": "8a1ae9b5",
      "metadata": {
        "id": "8a1ae9b5"
      },
      "source": [
        "## Function to build model on \"holts winter method\""
      ]
    },
    {
      "cell_type": "code",
      "execution_count": null,
      "id": "ee699749",
      "metadata": {
        "id": "ee699749"
      },
      "outputs": [],
      "source": [
        "def holtserrors (train,test):\n",
        "    mooodel={\n",
        "        \"Holts Winter\" :{\n",
        "            'model': ExponentialSmoothing(train.CO2).fit()\n",
        "        }\n",
        "    }\n",
        "    \n",
        "    scores = []\n",
        "    for moddel_name, config in mooodel.items():\n",
        "        gs =  config['model']\n",
        "        pred = gs.forecast(len(test))\n",
        "        scores.append({\n",
        "            'model': moddel_name,\n",
        "            'result':  np.mean(np.abs((pred-test.CO2)/test.CO2)*100)\n",
        "\n",
        "        })\n",
        "   \n",
        "    return pd.DataFrame(scores,columns=['model','result'])\n"
      ]
    },
    {
      "cell_type": "code",
      "execution_count": null,
      "id": "634c9a76",
      "metadata": {
        "scrolled": true,
        "id": "634c9a76",
        "outputId": "c92704f1-39c9-4b43-87b2-2065fbcea192"
      },
      "outputs": [
        {
          "data": {
            "text/html": [
              "<div>\n",
              "<style scoped>\n",
              "    .dataframe tbody tr th:only-of-type {\n",
              "        vertical-align: middle;\n",
              "    }\n",
              "\n",
              "    .dataframe tbody tr th {\n",
              "        vertical-align: top;\n",
              "    }\n",
              "\n",
              "    .dataframe thead th {\n",
              "        text-align: right;\n",
              "    }\n",
              "</style>\n",
              "<table border=\"1\" class=\"dataframe\">\n",
              "  <thead>\n",
              "    <tr style=\"text-align: right;\">\n",
              "      <th></th>\n",
              "      <th>model</th>\n",
              "      <th>original_error</th>\n",
              "      <th>sqrt_error</th>\n",
              "      <th>log_error</th>\n",
              "      <th>BoxCox_error</th>\n",
              "      <th>recipro_error</th>\n",
              "    </tr>\n",
              "  </thead>\n",
              "  <tbody>\n",
              "    <tr>\n",
              "      <th>0</th>\n",
              "      <td>Holts Winter</td>\n",
              "      <td>4.694816</td>\n",
              "      <td>2.337979</td>\n",
              "      <td>1.675075</td>\n",
              "      <td>2.237067</td>\n",
              "      <td>4.766006</td>\n",
              "    </tr>\n",
              "  </tbody>\n",
              "</table>\n",
              "</div>"
            ],
            "text/plain": [
              "          model  original_error  sqrt_error  log_error  BoxCox_error  \\\n",
              "0  Holts Winter        4.694816    2.337979   1.675075      2.237067   \n",
              "\n",
              "   recipro_error  \n",
              "0       4.766006  "
            ]
          },
          "execution_count": 33,
          "metadata": {},
          "output_type": "execute_result"
        }
      ],
      "source": [
        "warnings.filterwarnings(\"ignore\")\n",
        "holts_k_=holtserrors(train_1,test_1)\n",
        "holts_k=holts_k_.rename(columns={'result':'original_error'},inplace=True)\n",
        "holts_l_=holtserrors(train_sqrt_,test_sqrt_)\n",
        "holts_l=holts_l_.rename(columns={'result':'sqrt_error'},inplace=True)\n",
        "holts_m_=holtserrors(train_Log_,test_Log_)\n",
        "holts_m=holts_m_.rename(columns={'result':'log_error'},inplace=True)\n",
        "holts_t_=holtserrors(train_boxcox_,test_boxcox_)\n",
        "holts_t=holts_t_.rename(columns={'result':'BoxCox_error'},inplace=True)\n",
        "holts_nc_=holtserrors(train_recipro,test_recipro)\n",
        "holts_nc=holts_nc_.rename(columns={'result':'recipro_error'},inplace=True)\n",
        "HoltsWinter_ = pd.concat([holts_k_,holts_l_.drop(['model'],axis=1),holts_m_.drop(['model'],axis=1),holts_t_.drop(['model'],axis=1),holts_nc_.drop(['model'],axis=1)],axis=1)\n",
        "HoltsWinter_\n"
      ]
    },
    {
      "cell_type": "code",
      "execution_count": null,
      "id": "2c2917ae",
      "metadata": {
        "id": "2c2917ae"
      },
      "outputs": [],
      "source": []
    },
    {
      "cell_type": "markdown",
      "id": "8c1fd5d2",
      "metadata": {
        "id": "8c1fd5d2"
      },
      "source": [
        "### All the Errors for different Transformation technique"
      ]
    },
    {
      "cell_type": "code",
      "execution_count": null,
      "id": "6435ea80",
      "metadata": {
        "id": "6435ea80",
        "outputId": "0f01ba88-1ecf-4039-cebc-ede83511254a"
      },
      "outputs": [
        {
          "data": {
            "text/html": [
              "<div>\n",
              "<style scoped>\n",
              "    .dataframe tbody tr th:only-of-type {\n",
              "        vertical-align: middle;\n",
              "    }\n",
              "\n",
              "    .dataframe tbody tr th {\n",
              "        vertical-align: top;\n",
              "    }\n",
              "\n",
              "    .dataframe thead th {\n",
              "        text-align: right;\n",
              "    }\n",
              "</style>\n",
              "<table border=\"1\" class=\"dataframe\">\n",
              "  <thead>\n",
              "    <tr style=\"text-align: right;\">\n",
              "      <th></th>\n",
              "      <th>model</th>\n",
              "      <th>original_error</th>\n",
              "      <th>sqrt_error</th>\n",
              "      <th>log_error</th>\n",
              "      <th>BoxCox_error</th>\n",
              "      <th>recipro_error</th>\n",
              "    </tr>\n",
              "  </thead>\n",
              "  <tbody>\n",
              "    <tr>\n",
              "      <th>0</th>\n",
              "      <td>Naives Aproch</td>\n",
              "      <td>4.649507</td>\n",
              "      <td>2.337979</td>\n",
              "      <td>1.675075</td>\n",
              "      <td>2.237067</td>\n",
              "      <td>4.766006</td>\n",
              "    </tr>\n",
              "    <tr>\n",
              "      <th>1</th>\n",
              "      <td>Simple Average</td>\n",
              "      <td>73.892246</td>\n",
              "      <td>61.732583</td>\n",
              "      <td>131.961075</td>\n",
              "      <td>96.683402</td>\n",
              "      <td>137792.336173</td>\n",
              "    </tr>\n",
              "    <tr>\n",
              "      <th>2</th>\n",
              "      <td>Moving Average</td>\n",
              "      <td>4.972519</td>\n",
              "      <td>2.510991</td>\n",
              "      <td>1.802127</td>\n",
              "      <td>2.403927</td>\n",
              "      <td>5.183939</td>\n",
              "    </tr>\n",
              "    <tr>\n",
              "      <th>0</th>\n",
              "      <td>Simple Exponential</td>\n",
              "      <td>4.742296</td>\n",
              "      <td>2.388077</td>\n",
              "      <td>1.712167</td>\n",
              "      <td>2.285605</td>\n",
              "      <td>4.890105</td>\n",
              "    </tr>\n",
              "    <tr>\n",
              "      <th>1</th>\n",
              "      <td>Holts</td>\n",
              "      <td>18.766422</td>\n",
              "      <td>11.252373</td>\n",
              "      <td>10.030858</td>\n",
              "      <td>12.181049</td>\n",
              "      <td>2788.654244</td>\n",
              "    </tr>\n",
              "    <tr>\n",
              "      <th>0</th>\n",
              "      <td>Simple Liner model</td>\n",
              "      <td>16.483920</td>\n",
              "      <td>10.795550</td>\n",
              "      <td>108.404518</td>\n",
              "      <td>46.136285</td>\n",
              "      <td>204300.419266</td>\n",
              "    </tr>\n",
              "    <tr>\n",
              "      <th>1</th>\n",
              "      <td>Exponential Linear model</td>\n",
              "      <td>64.469798</td>\n",
              "      <td>28.047605</td>\n",
              "      <td>42.807310</td>\n",
              "      <td>63.323979</td>\n",
              "      <td>9700.050232</td>\n",
              "    </tr>\n",
              "    <tr>\n",
              "      <th>0</th>\n",
              "      <td>Holts Winter</td>\n",
              "      <td>4.694816</td>\n",
              "      <td>2.337979</td>\n",
              "      <td>1.675075</td>\n",
              "      <td>2.237067</td>\n",
              "      <td>4.766006</td>\n",
              "    </tr>\n",
              "  </tbody>\n",
              "</table>\n",
              "</div>"
            ],
            "text/plain": [
              "                      model  original_error  sqrt_error   log_error  \\\n",
              "0             Naives Aproch        4.649507    2.337979    1.675075   \n",
              "1            Simple Average       73.892246   61.732583  131.961075   \n",
              "2            Moving Average        4.972519    2.510991    1.802127   \n",
              "0        Simple Exponential        4.742296    2.388077    1.712167   \n",
              "1                     Holts       18.766422   11.252373   10.030858   \n",
              "0        Simple Liner model       16.483920   10.795550  108.404518   \n",
              "1  Exponential Linear model       64.469798   28.047605   42.807310   \n",
              "0              Holts Winter        4.694816    2.337979    1.675075   \n",
              "\n",
              "   BoxCox_error  recipro_error  \n",
              "0      2.237067       4.766006  \n",
              "1     96.683402  137792.336173  \n",
              "2      2.403927       5.183939  \n",
              "0      2.285605       4.890105  \n",
              "1     12.181049    2788.654244  \n",
              "0     46.136285  204300.419266  \n",
              "1     63.323979    9700.050232  \n",
              "0      2.237067       4.766006  "
            ]
          },
          "execution_count": 34,
          "metadata": {},
          "output_type": "execute_result"
        }
      ],
      "source": [
        "final_result_all = pd.concat([result_driven,result_exp,result_linear,HoltsWinter_],axis=0)\n",
        "final_result_all"
      ]
    },
    {
      "cell_type": "markdown",
      "id": "36e1d30c",
      "metadata": {
        "id": "36e1d30c"
      },
      "source": [
        "                             Navie Aproch , Simple Exponential and Holts Winter metod has given least error with LogTransformation .\n",
        "As Navie Aproch work well when data set contain less variance but that's not a case with our data ,our data have high variance therefore we didnot gone with it and decided to go with Holts Winter Method."
      ]
    },
    {
      "cell_type": "code",
      "execution_count": null,
      "id": "ece1e82e",
      "metadata": {
        "id": "ece1e82e"
      },
      "outputs": [],
      "source": []
    },
    {
      "cell_type": "markdown",
      "id": "bfa6ff8e",
      "metadata": {
        "id": "bfa6ff8e"
      },
      "source": [
        "# ARIMA"
      ]
    },
    {
      "cell_type": "markdown",
      "id": "03c19a80",
      "metadata": {
        "id": "03c19a80"
      },
      "source": [
        "### Function for adfuller test"
      ]
    },
    {
      "cell_type": "code",
      "execution_count": null,
      "id": "4a26a87c",
      "metadata": {
        "scrolled": true,
        "id": "4a26a87c"
      },
      "outputs": [],
      "source": [
        "from statsmodels.tsa.stattools import adfuller\n",
        "def test_adfuller(data):\n",
        "     adf_test = adfuller(data, autolag = 'AIC')\n",
        "     print(\"1. ADF : \",adf_test[0])\n",
        "     print(\"2. P-Value : \", adf_test[1])\n",
        "     print(\"3.  Lags : \", adf_test[2])\n",
        "     print(\"4. Num Of Observations :\",      adf_test[3])\n",
        "     print(\"5. Critical Values :\")\n",
        "     for key, val in adf_test[4].items():\n",
        "         print(\"\\t\",key, \": \", val)\n"
      ]
    },
    {
      "cell_type": "code",
      "execution_count": null,
      "id": "79df45ec",
      "metadata": {
        "scrolled": true,
        "id": "79df45ec",
        "outputId": "c52852a9-a04a-4302-f585-4a32c5844ea9"
      },
      "outputs": [
        {
          "name": "stdout",
          "output_type": "stream",
          "text": [
            "1. ADF :  -0.3784627751558869\n",
            "2. P-Value :  0.9136330950336237\n",
            "3.  Lags :  0\n",
            "4. Num Of Observations : 214\n",
            "5. Critical Values :\n",
            "\t 1% :  -3.4612821203214907\n",
            "\t 5% :  -2.875142613826617\n",
            "\t 10% :  -2.574020122281422\n"
          ]
        }
      ],
      "source": [
        "test_adfuller(data['CO2'])"
      ]
    },
    {
      "cell_type": "code",
      "execution_count": null,
      "id": "eab7ae8b",
      "metadata": {
        "id": "eab7ae8b",
        "outputId": "a09ac67f-66b9-47ab-cf43-fc6d972bd093"
      },
      "outputs": [
        {
          "name": "stdout",
          "output_type": "stream",
          "text": [
            "1. ADF :  -0.5660399430926161\n",
            "2. P-Value :  0.8784724676718254\n",
            "3.  Lags :  0\n",
            "4. Num Of Observations : 214\n",
            "5. Critical Values :\n",
            "\t 1% :  -3.4612821203214907\n",
            "\t 5% :  -2.875142613826617\n",
            "\t 10% :  -2.574020122281422\n"
          ]
        }
      ],
      "source": [
        "test_adfuller(sqrt_['CO2'])"
      ]
    },
    {
      "cell_type": "code",
      "execution_count": null,
      "id": "7f73673f",
      "metadata": {
        "scrolled": false,
        "id": "7f73673f",
        "outputId": "cabb734d-a144-4372-da3e-b4384fde4e2b"
      },
      "outputs": [
        {
          "name": "stdout",
          "output_type": "stream",
          "text": [
            "1. ADF :  -1.3422310857301323\n",
            "2. P-Value :  0.6096370422209315\n",
            "3.  Lags :  1\n",
            "4. Num Of Observations : 213\n",
            "5. Critical Values :\n",
            "\t 1% :  -3.461429147102264\n",
            "\t 5% :  -2.875206950587861\n",
            "\t 10% :  -2.5740544497344002\n"
          ]
        }
      ],
      "source": [
        "test_adfuller(Log_['CO2'])"
      ]
    },
    {
      "cell_type": "code",
      "execution_count": null,
      "id": "f8bf7665",
      "metadata": {
        "id": "f8bf7665",
        "outputId": "526cfcfc-58cd-4a60-d231-4bd37ef2c3dd"
      },
      "outputs": [
        {
          "name": "stdout",
          "output_type": "stream",
          "text": [
            "1. ADF :  -1.0597321496893453\n",
            "2. P-Value :  0.730860342575623\n",
            "3.  Lags :  0\n",
            "4. Num Of Observations : 214\n",
            "5. Critical Values :\n",
            "\t 1% :  -3.4612821203214907\n",
            "\t 5% :  -2.875142613826617\n",
            "\t 10% :  -2.574020122281422\n"
          ]
        }
      ],
      "source": [
        "test_adfuller(boxcox_['CO2'])"
      ]
    },
    {
      "cell_type": "code",
      "execution_count": null,
      "id": "21e34c14",
      "metadata": {
        "scrolled": false,
        "id": "21e34c14",
        "outputId": "b4488f60-ef04-4faa-cda6-1fe12365d2ea"
      },
      "outputs": [
        {
          "name": "stdout",
          "output_type": "stream",
          "text": [
            "1. ADF :  -1.909222280865604\n",
            "2. P-Value :  0.3277351737424359\n",
            "3.  Lags :  0\n",
            "4. Num Of Observations : 214\n",
            "5. Critical Values :\n",
            "\t 1% :  -3.4612821203214907\n",
            "\t 5% :  -2.875142613826617\n",
            "\t 10% :  -2.574020122281422\n"
          ]
        }
      ],
      "source": [
        "test_adfuller(recipro['CO2'])"
      ]
    },
    {
      "cell_type": "markdown",
      "id": "64a12564",
      "metadata": {
        "id": "64a12564"
      },
      "source": [
        "From adfuller test we came to know that reciprocal Transformation is givig least p_values so we will build arima model on Reciprocal Transformation"
      ]
    },
    {
      "cell_type": "code",
      "execution_count": null,
      "id": "0e5c4ccf",
      "metadata": {
        "scrolled": true,
        "id": "0e5c4ccf",
        "outputId": "eaacf5f0-0ce4-4a25-9f71-90c466a7173e"
      },
      "outputs": [
        {
          "name": "stdout",
          "output_type": "stream",
          "text": [
            "Performing stepwise search to minimize aic\n",
            " ARIMA(2,1,2)(0,0,0)[0] intercept   : AIC=2124.223, Time=0.21 sec\n",
            " ARIMA(0,1,0)(0,0,0)[0] intercept   : AIC=2116.288, Time=0.02 sec\n",
            " ARIMA(1,1,0)(0,0,0)[0] intercept   : AIC=2118.226, Time=0.07 sec\n",
            " ARIMA(0,1,1)(0,0,0)[0] intercept   : AIC=2118.226, Time=0.06 sec\n",
            " ARIMA(0,1,0)(0,0,0)[0]             : AIC=2114.416, Time=0.01 sec\n",
            " ARIMA(1,1,1)(0,0,0)[0] intercept   : AIC=2120.226, Time=0.09 sec\n",
            "\n",
            "Best model:  ARIMA(0,1,0)(0,0,0)[0]          \n",
            "Total fit time: 0.478 seconds\n"
          ]
        }
      ],
      "source": [
        "# auto arima to get best p,d,q\n",
        "\n",
        "from pmdarima import auto_arima\n",
        "show_fit = auto_arima(recipro['CO2'], trace=True,suppress_warnings=True)"
      ]
    },
    {
      "cell_type": "code",
      "execution_count": null,
      "id": "eab9a8f7",
      "metadata": {
        "scrolled": true,
        "id": "eab9a8f7"
      },
      "outputs": [],
      "source": [
        "from statsmodels.tsa.arima_model import ARIMA\n",
        "model=ARIMA(train_recipro['CO2'],order=(0,1,0))\n",
        "model=model.fit()\n",
        "warnings.filterwarnings(\"ignore\")"
      ]
    },
    {
      "cell_type": "code",
      "execution_count": null,
      "id": "10690125",
      "metadata": {
        "id": "10690125",
        "outputId": "bb778787-b43a-4949-9ccf-21d878a8763d"
      },
      "outputs": [
        {
          "data": {
            "text/plain": [
              "36887.53267515155"
            ]
          },
          "execution_count": 43,
          "metadata": {},
          "output_type": "execute_result"
        }
      ],
      "source": [
        "start=len(train_recipro.CO2)\n",
        "end=len(train_recipro.CO2)+len(test_recipro.CO2)-1\n",
        "pred2_=model.predict(start=start,end=end,typ='levels').rename('ARIMA Predictions')\n",
        "np.mean(np.abs((pred2_-test_recipro.CO2)/test_recipro.CO2)*100)"
      ]
    },
    {
      "cell_type": "markdown",
      "id": "ddf910a9",
      "metadata": {
        "id": "ddf910a9"
      },
      "source": [
        "#### ARIMA can't outperform  Holts Winter Method therefore our final model will be build on  Holts Winter Method"
      ]
    },
    {
      "cell_type": "code",
      "execution_count": null,
      "id": "f0d05aea",
      "metadata": {
        "id": "f0d05aea"
      },
      "outputs": [],
      "source": []
    },
    {
      "cell_type": "markdown",
      "id": "700e88f7",
      "metadata": {
        "id": "700e88f7"
      },
      "source": [
        "## Final model with Holts Winter Method"
      ]
    },
    {
      "cell_type": "code",
      "execution_count": null,
      "id": "30c4ad10",
      "metadata": {
        "id": "30c4ad10",
        "outputId": "a9b3aadb-2ec6-49b4-e585-2b80b9870be5"
      },
      "outputs": [
        {
          "data": {
            "text/plain": [
              "5.894552265594701"
            ]
          },
          "execution_count": 44,
          "metadata": {},
          "output_type": "execute_result"
        }
      ],
      "source": [
        "HoltsWinter_final = ExponentialSmoothing(Log_.CO2,seasonal=\"add\",trend=\"add\",seasonal_periods=12).fit()\n",
        "HoltsWinter_pred = HoltsWinter_final.predict(start = Log_.CO2.index[0],end = Log_.CO2.index[-1])\n",
        "\n",
        "np.mean(np.abs((HoltsWinter_pred-Log_.CO2)/Log_.CO2)*100)"
      ]
    },
    {
      "cell_type": "code",
      "execution_count": null,
      "id": "c59d1387",
      "metadata": {
        "scrolled": true,
        "id": "c59d1387",
        "outputId": "e114f9c6-f273-43ab-8cbe-4ec157bed9d2"
      },
      "outputs": [
        {
          "data": {
            "image/png": "[encoded data removed]",
            "text/plain": [
              "<Figure size 432x288 with 1 Axes>"
            ]
          },
          "metadata": {
            "needs_background": "light"
          },
          "output_type": "display_data"
        }
      ],
      "source": [
        "data['Forecast']=np.exp(HoltsWinter_pred)\n",
        "\n",
        "\n",
        "\n",
        "plt.plot(data['CO2'], label='Test')\n",
        "plt.plot(data['Forecast'], label='SES')\n",
        "plt.legend(loc='best')\n",
        "plt.grid()\n",
        "plt.show()"
      ]
    },
    {
      "cell_type": "markdown",
      "id": "f57af413",
      "metadata": {
        "id": "f57af413"
      },
      "source": [
        "### Predicting CO2 values for next 10 years"
      ]
    },
    {
      "cell_type": "code",
      "execution_count": null,
      "id": "7a5ab4fb",
      "metadata": {
        "id": "7a5ab4fb"
      },
      "outputs": [],
      "source": []
    },
    {
      "cell_type": "code",
      "execution_count": null,
      "id": "0df4a3a4",
      "metadata": {
        "id": "0df4a3a4",
        "outputId": "8d7a67aa-f6b3-4b54-dc82-8f7d7328cbff"
      },
      "outputs": [
        {
          "data": {
            "text/plain": [
              "2015-12-31    14.976196\n",
              "2016-12-31    14.791359\n",
              "2017-12-31    13.854450\n",
              "2018-12-31    13.587939\n",
              "2019-12-31    13.803818\n",
              "2020-12-31    13.701055\n",
              "2021-12-31    13.266105\n",
              "2022-12-31    12.820555\n",
              "2023-12-31    12.722416\n",
              "2024-12-31    12.788108\n",
              "Freq: A-DEC, dtype: float64"
            ]
          },
          "execution_count": 46,
          "metadata": {},
          "output_type": "execute_result"
        }
      ],
      "source": [
        "np.exp(HoltsWinter_final.forecast(10))"
      ]
    },
    {
      "cell_type": "code",
      "execution_count": null,
      "id": "bb8eb178",
      "metadata": {
        "id": "bb8eb178"
      },
      "outputs": [],
      "source": []
    },
    {
      "cell_type": "code",
      "execution_count": null,
      "id": "1d9803e5",
      "metadata": {
        "id": "1d9803e5"
      },
      "outputs": [],
      "source": [
        "import pickle\n",
        "filename = 'C:/Users/piyus/Downloads/air_quality_forecast.sav'\n",
        "pickle.dump(HoltsWinter_final, open(filename, 'wb'))"
      ]
    },
    {
      "cell_type": "code",
      "execution_count": null,
      "id": "32ac39f9",
      "metadata": {
        "id": "32ac39f9"
      },
      "outputs": [],
      "source": [
        "# .pickle file\n",
        "with open('C:/Users/piyus/Downloads/air_quality_forecasts.pickle','wb') as f:\n",
        "    pickle.dump(HoltsWinter_final,f)"
      ]
    },
    {
      "cell_type": "code",
      "execution_count": null,
      "id": "5345e689",
      "metadata": {
        "id": "5345e689"
      },
      "outputs": [],
      "source": [
        "final_df = data.CO2\n",
        "#For Deployment\n",
        "final_df.to_pickle(\"C:/Users/piyus/Downloads/air_final_df.pickle\")\n",
        "final_df.to_csv(\"C:/Users/piyus/Downloads/CO2_Cleaned_data.csv\")"
      ]
    }
  ],
  "metadata": {
    "kernelspec": {
      "display_name": "Python 3 (ipykernel)",
      "language": "python",
      "name": "python3"
    },
    "language_info": {
      "codemirror_mode": {
        "name": "ipython",
        "version": 3
      },
      "file_extension": ".py",
      "mimetype": "text/x-python",
      "name": "python",
      "nbconvert_exporter": "python",
      "pygments_lexer": "ipython3",
      "version": "3.9.7"
    },
    "colab": {
      "provenance": []
    }
  },
  "nbformat": 4,
  "nbformat_minor": 5
}